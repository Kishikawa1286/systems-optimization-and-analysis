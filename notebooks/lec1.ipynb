{
 "cells": [
  {
   "attachments": {},
   "cell_type": "markdown",
   "metadata": {},
   "source": [
    "# システム計画論 第一回 課題\n",
    "\n",
    "### 29C23002 石川健太郎"
   ]
  },
  {
   "attachments": {},
   "cell_type": "markdown",
   "metadata": {},
   "source": [
    "次の 4 つの式をそれぞれ示す．\n",
    "\n",
    "$$\n",
    "\\begin{align*}\n",
    "    \\tilde{A} \\cup \\left( \\tilde{B} \\cap \\tilde{C} \\right) = \\left( \\tilde{A} \\cup \\tilde{B} \\right) \\cap \\left( \\tilde{A} \\cup \\tilde{C} \\right) & ~~~~ \\text{――} ~~~~ ( \\text{ 8 - i } )\\\\\n",
    "    \\tilde{A} \\cap \\left( \\tilde{B} \\cup \\tilde{C} \\right) = \\left( \\tilde{A} \\cap \\tilde{B} \\right) \\cup \\left( \\tilde{A} \\cap \\tilde{C} \\right) & ~~~~ \\text{――} ~~~~ ( \\text{ 8 - ii } )\\\\\n",
    "    \\left( \\tilde{A} \\cup \\tilde{B} \\right)^C = \\tilde{A}^C \\cap \\tilde{B}^C & ~~~~ \\text{――} ~~~~ ( \\text{ 10 - i } )\\\\\n",
    "    \\left( \\tilde{A} \\cap \\tilde{B} \\right)^C = \\tilde{A}^C \\cup \\tilde{B}^C & ~~~~ \\text{――} ~~~~ ( \\text{ 10 - ii } )\n",
    "\\end{align*}\n",
    "$$"
   ]
  },
  {
   "attachments": {},
   "cell_type": "markdown",
   "metadata": {},
   "source": [
    "### $( \\text{ 8 - i } )$"
   ]
  },
  {
   "attachments": {},
   "cell_type": "markdown",
   "metadata": {},
   "source": [
    "$\\mu_{\\tilde{A}}, \\mu_{\\tilde{B}}, \\mu_{\\tilde{C}}$ を $\\tilde{A}, \\tilde{B}, \\tilde{C}$ のメンバシップ関数とする．\n",
    "各 $x \\in \\Omega$ について次の不等式の一つが成立する．\n",
    "\n",
    "$$\n",
    "\\begin{align*}\n",
    "\\mu_{\\tilde{A}}(x) \\leq \\mu_{\\tilde{B}}(x) \\leq \\mu_{\\tilde{C}}(x), \\\\\n",
    "\\mu_{\\tilde{A}}(x) \\leq \\mu_{\\tilde{C}}(x) < \\mu_{\\tilde{B}}(x), \\\\\n",
    "\\mu_{\\tilde{B}}(x) < \\mu_{\\tilde{A}}(x) \\leq \\mu_{\\tilde{C}}(x), \\\\\n",
    "\\mu_{\\tilde{B}}(x) \\leq \\mu_{\\tilde{C}}(x) < \\mu_{\\tilde{A}}(x), \\\\\n",
    "\\mu_{\\tilde{C}}(x) < \\mu_{\\tilde{A}}(x) \\leq \\mu_{\\tilde{B}}(x), \\\\\n",
    "\\mu_{\\tilde{C}}(x) < \\mu_{\\tilde{B}}(x) < \\mu_{\\tilde{A}}(x).\n",
    "\\end{align*}\n",
    "$$\n",
    "\n",
    "それぞれの場合について $\\mu_{\\tilde{A} \\cup \\left( \\tilde{B} \\cap \\tilde{C} \\right)}(x) = \\mu_{\\left( \\tilde{A} \\cup \\tilde{B} \\right) \\cap \\left( \\tilde{A} \\cup \\tilde{C} \\right)}$ を示す．\n",
    "これは次の表のように証明できる．"
   ]
  },
  {
   "attachments": {},
   "cell_type": "markdown",
   "metadata": {},
   "source": [
    "|  | $\\mu_{\\tilde{B} \\cap \\tilde{C}}(x)$ | $\\mu_{\\tilde{A} \\cup \\left( \\tilde{B} \\cap \\tilde{C} \\right)}(x)$ | $\\mu_{\\tilde{A} \\cup \\tilde{B}}(x)$ | $\\mu_{\\tilde{A} \\cup \\tilde{C}}(x)$ | $\\mu_{\\left( \\tilde{A} \\cup \\tilde{B} \\right) \\cap \\left( \\tilde{A} \\cup \\tilde{C} \\right)}(x)$ |\n",
    "|---|---|---|---|---|---|\n",
    "| $\\mu_{\\tilde{A}}(x) \\leq \\mu_{\\tilde{B}}(x) \\leq \\mu_{\\tilde{C}}(x)$ | $\\mu_{\\tilde{B}}(x)$ | $\\mu_{\\tilde{C}}(x)$ | $\\mu_{\\tilde{C}}(x)$ | $\\mu_{\\tilde{C}}(x)$ | $\\mu_{\\tilde{C}}(x)$ |\n",
    "| $\\mu_{\\tilde{A}}(x) \\leq \\mu_{\\tilde{C}}(x) < \\mu_{\\tilde{B}}(x)$ | $\\mu_{\\tilde{C}}(x)$ | $\\mu_{\\tilde{C}}(x)$ | $\\mu_{\\tilde{B}}(x)$ | $\\mu_{\\tilde{C}}(x)$ | $\\mu_{\\tilde{C}}(x)$ |\n",
    "| $\\mu_{\\tilde{B}}(x) < \\mu_{\\tilde{A}}(x) \\leq \\mu_{\\tilde{C}}(x)$ | $\\mu_{\\tilde{B}}(x)$ | $\\mu_{\\tilde{C}}(x)$ | $\\mu_{\\tilde{C}}(x)$ | $\\mu_{\\tilde{C}}(x)$ | $\\mu_{\\tilde{C}}(x)$ |\n",
    "| $\\mu_{\\tilde{B}}(x) \\leq \\mu_{\\tilde{C}}(x) < \\mu_{\\tilde{A}}(x)$ | $\\mu_{\\tilde{C}}(x)$ | $\\mu_{\\tilde{A}}(x)$ | $\\mu_{\\tilde{A}}(x)$ | $\\mu_{\\tilde{C}}(x)$ | $\\mu_{\\tilde{A}}(x)$ |\n",
    "| $\\mu_{\\tilde{C}}(x) < \\mu_{\\tilde{A}}(x) \\leq \\mu_{\\tilde{B}}(x)$ | $\\mu_{\\tilde{C}}(x)$ | $\\mu_{\\tilde{B}}(x)$ | $\\mu_{\\tilde{B}}(x)$ | $\\mu_{\\tilde{A}}(x)$ | $\\mu_{\\tilde{B}}(x)$ |\n",
    "| $\\mu_{\\tilde{C}}(x) < \\mu_{\\tilde{B}}(x) < \\mu_{\\tilde{A}}(x)$ | $\\mu_{\\tilde{C}}(x)$ | $\\mu_{\\tilde{A}}(x)$ | $\\mu_{\\tilde{A}}(x)$ | $\\mu_{\\tilde{A}}(x)$ | $\\mu_{\\tilde{A}}(x)$ |\n"
   ]
  },
  {
   "attachments": {},
   "cell_type": "markdown",
   "metadata": {},
   "source": [
    "以上より，式 $( \\text{ 8 - i } )$ が示された．"
   ]
  },
  {
   "attachments": {},
   "cell_type": "markdown",
   "metadata": {},
   "source": [
    "### $( \\text{ 8 - ii } )$"
   ]
  },
  {
   "attachments": {},
   "cell_type": "markdown",
   "metadata": {},
   "source": [
    "$\\mu_{\\tilde{A}}, \\mu_{\\tilde{B}}, \\mu_{\\tilde{C}}$ を $\\tilde{A}, \\tilde{B}, \\tilde{C}$ のメンバシップ関数とする．\n",
    "$( \\text{ 8 - i } )$ と同様に各 $x \\in \\Omega$ について次の不等式の一つが成立する．\n",
    "\n",
    "$$\n",
    "\\begin{align*}\n",
    "\\mu_{\\tilde{A}}(x) \\leq \\mu_{\\tilde{B}}(x) \\leq \\mu_{\\tilde{C}}(x), \\\\\n",
    "\\mu_{\\tilde{A}}(x) \\leq \\mu_{\\tilde{C}}(x) < \\mu_{\\tilde{B}}(x), \\\\\n",
    "\\mu_{\\tilde{B}}(x) < \\mu_{\\tilde{A}}(x) \\leq \\mu_{\\tilde{C}}(x), \\\\\n",
    "\\mu_{\\tilde{B}}(x) \\leq \\mu_{\\tilde{C}}(x) < \\mu_{\\tilde{A}}(x), \\\\\n",
    "\\mu_{\\tilde{C}}(x) < \\mu_{\\tilde{A}}(x) \\leq \\mu_{\\tilde{B}}(x), \\\\\n",
    "\\mu_{\\tilde{C}}(x) < \\mu_{\\tilde{B}}(x) < \\mu_{\\tilde{A}}(x).\n",
    "\\end{align*}\n",
    "$$\n",
    "\n",
    "それぞれの場合について $\\mu_{\\tilde{A} \\cap \\left( \\tilde{B} \\cup \\tilde{C} \\right)}(x) = \\mu_{\\left( \\tilde{A} \\cap \\tilde{B} \\right) \\cup \\left( \\tilde{A} \\cap \\tilde{C} \\right)}(x)$ を示す．\n",
    "これは次の表のように証明できる．"
   ]
  },
  {
   "attachments": {},
   "cell_type": "markdown",
   "metadata": {},
   "source": [
    "|     | $\\mu_{\\tilde{B} \\cup \\tilde{C}}(x)$ | $\\mu_{\\tilde{A} \\cap (\\tilde{B} \\cup \\tilde{C})}(x)$ | $\\mu_{\\tilde{A} \\cap \\tilde{B}}(x)$ | $\\mu_{\\tilde{A} \\cap \\tilde{C}}(x)$ | $\\mu_{\\left( \\tilde{A} \\cap \\tilde{B} \\right) \\cup \\left( \\tilde{A} \\cap \\tilde{C} \\right)}(x)$ |\n",
    "| --- | --- | --- | --- | --- | --- |\n",
    "| $\\mu_{\\tilde{A}}(x) \\leq \\mu_{\\tilde{B}}(x) \\leq \\mu_{\\tilde{C}}(x)$ | $\\mu_{\\tilde{C}}(x)$ | $\\mu_{\\tilde{A}}(x)$ |  $\\mu_{\\tilde{A}}(x)$ |  $\\mu_{\\tilde{A}}(x)$ |  $\\mu_{\\tilde{A}}(x)$ |\n",
    "| $\\mu_{\\tilde{A}}(x) \\leq \\mu_{\\tilde{C}}(x) < \\mu_{\\tilde{B}}(x)$ | $\\mu_{\\tilde{B}}(x)$ | $\\mu_{\\tilde{A}}(x)$ |  $\\mu_{\\tilde{A}}(x)$ |  $\\mu_{\\tilde{A}}(x)$ |  $\\mu_{\\tilde{A}}(x)$ |\n",
    "| $\\mu_{\\tilde{B}}(x) < \\mu_{\\tilde{A}}(x) \\leq \\mu_{\\tilde{C}}(x)$ | $\\mu_{\\tilde{C}}(x)$ | $\\mu_{\\tilde{A}}(x)$ |  $\\mu_{\\tilde{B}}(x)$ |  $\\mu_{\\tilde{A}}(x)$ |  $\\mu_{\\tilde{A}}(x)$ |\n",
    "| $\\mu_{\\tilde{B}}(x) \\leq \\mu_{\\tilde{C}}(x) < \\mu_{\\tilde{A}}(x)$ | $\\mu_{\\tilde{C}}(x)$ | $\\mu_{\\tilde{C}}(x)$ |  $\\mu_{\\tilde{B}}(x)$ |  $\\mu_{\\tilde{C}}(x)$ |  $\\mu_{\\tilde{C}}(x)$ |\n",
    "| $\\mu_{\\tilde{C}}(x) < \\mu_{\\tilde{A}}(x) \\leq \\mu_{\\tilde{B}}(x)$ | $\\mu_{\\tilde{B}}(x)$ | $\\mu_{\\tilde{A}}(x)$ |  $\\mu_{\\tilde{A}}(x)$ |  $\\mu_{\\tilde{C}}(x)$ |  $\\mu_{\\tilde{A}}(x)$ |\n",
    "| $\\mu_{\\tilde{C}}(x) < \\mu_{\\tilde{B}}(x) < \\mu_{\\tilde{A}}(x)$ | $\\mu_{\\tilde{B}}(x)$ | $\\mu_{\\tilde{B}}(x)$ |  $\\mu_{\\tilde{B}}(x)$ |  $\\mu_{\\tilde{C}}(x)$ |  $\\mu_{\\tilde{B}}(x)$ |"
   ]
  },
  {
   "attachments": {},
   "cell_type": "markdown",
   "metadata": {},
   "source": [
    "以上より，式 $( \\text{ 8 - ii } )$ が示された．"
   ]
  },
  {
   "attachments": {},
   "cell_type": "markdown",
   "metadata": {},
   "source": [
    "### $( \\text{ 10 - i } )$"
   ]
  },
  {
   "attachments": {},
   "cell_type": "markdown",
   "metadata": {},
   "source": [
    "$\\mu_{\\tilde{A}}, \\mu_{\\tilde{B}}$ を $\\tilde{A}, \\tilde{B}$ のメンバシップ関数とする．\n",
    "各 $x \\in \\Omega$ について次の不等式の一つが成立する．\n",
    "\n",
    "$$\n",
    "\\begin{align*}\n",
    "\\mu_{\\tilde{A}}(x) \\leq \\mu_{\\tilde{B}}(x), \\\\\n",
    "\\mu_{\\tilde{B}}(x) < \\mu_{\\tilde{A}}(x).\n",
    "\\end{align*}\n",
    "$$\n",
    "\n",
    "<!-- $\\mu_{\\tilde{A}^C}(x) = 1 - \\mu_{\\tilde{A}}(x), ~~ 0 \\leq \\mu_{\\tilde{A}}(x) \\leq 1$ であるので， $\\mu_{\\tilde{A}}(x) \\leq \\mu_{\\tilde{B}}(x) \\Leftrightarrow \\mu_{\\tilde{A}^C}(x) \\geq \\mu_{\\tilde{B}^C}(x)$ となる．\n",
    "したがって， $\\mu_{\\tilde{A}^C \\cap \\tilde{B}^C}(x) = \\min \\left[ \\mu_{\\tilde{A}^C}(x), \\mu_{\\tilde{B}^C}(x) \\right] = 1 - \\max \\left[ \\mu_{\\tilde{A}}(x), \\mu_{\\tilde{B}}(x) \\right]$ -->\n",
    "\n",
    "それぞれの場合について $\\mu_{\\left( \\tilde{A} \\cup \\tilde{B} \\right)^C}(x) = \\mu_{\\tilde{A}^C \\cap \\tilde{B}^C}(x)$ を示す．\n",
    "これは次の表のように証明できる．\n",
    "\n",
    "ただし， $\\mu_{\\tilde{A}^C}(x) = 1 - \\mu_{\\tilde{A}}(x), ~~ 0 \\leq \\mu_{\\tilde{A}}(x) \\leq 1$ であるので， $\\mu_{\\tilde{A}}(x) \\leq \\mu_{\\tilde{B}}(x) \\Leftrightarrow \\mu_{\\tilde{A}^C}(x) \\geq \\mu_{\\tilde{B}^C}(x)$ が成り立つことに注意する．"
   ]
  },
  {
   "attachments": {},
   "cell_type": "markdown",
   "metadata": {},
   "source": [
    "|     | $\\mu_{\\tilde{A} \\cup \\tilde{B}}(x)$ | $\\mu_{\\left( \\tilde{A} \\cup \\tilde{B} \\right)^C}(x)$ | $\\mu_{\\tilde{A}^C \\cap \\tilde{B}^C}(x)$ |\n",
    "| --- | --- | --- | --- |\n",
    "| $\\mu_{\\tilde{A}}(x) \\leq \\mu_{\\tilde{B}}(x), ~~ \\left( \\mu_{\\tilde{A}^C}(x) \\geq \\mu_{\\tilde{B}^C}(x) \\right)$ | $\\mu_{\\tilde{B}}(x)$ | $1 - \\mu_{\\tilde{B}}(x)$ | $\\mu_{\\tilde{B}^C}(x) = 1 - \\mu_{\\tilde{B}}(x)$ |\n",
    "| $\\mu_{\\tilde{B}}(x) < \\mu_{\\tilde{A}}(x), ~~ \\left( \\mu_{\\tilde{B}^C}(x) > \\mu_{\\tilde{A}^C}(x) \\right)$ | $\\mu_{\\tilde{A}}(x)$ | $1 - \\mu_{\\tilde{A}}(x)$ | $\\mu_{\\tilde{A}^C}(x) = 1 - \\mu_{\\tilde{A}}(x)$ |"
   ]
  },
  {
   "attachments": {},
   "cell_type": "markdown",
   "metadata": {},
   "source": [
    "以上より，式 $( \\text{ 10 - i } )$ が示された．"
   ]
  },
  {
   "attachments": {},
   "cell_type": "markdown",
   "metadata": {},
   "source": [
    "### $( \\text{ 10 - ii } )$"
   ]
  },
  {
   "attachments": {},
   "cell_type": "markdown",
   "metadata": {},
   "source": [
    "$\\mu_{\\tilde{A}}, \\mu_{\\tilde{B}}$ を $\\tilde{A}, \\tilde{B}$ のメンバシップ関数とする．\n",
    "$( \\text{ 8 - i } )$ と同様に各 $x \\in \\Omega$ について次の不等式の一つが成立する．\n",
    "\n",
    "$$\n",
    "\\begin{align*}\n",
    "\\mu_{\\tilde{A}}(x) \\leq \\mu_{\\tilde{B}}(x), \\\\\n",
    "\\mu_{\\tilde{B}}(x) < \\mu_{\\tilde{A}}(x).\n",
    "\\end{align*}\n",
    "$$\n",
    "\n",
    "それぞれの場合について $\\mu_{\\left( \\tilde{A} \\cap \\tilde{B} \\right)^C}(x) = \\mu_{\\tilde{A}^C \\cup \\tilde{B}^C}(x)$ を示す．\n",
    "これは $\\mu_{\\tilde{A}}(x) \\leq \\mu_{\\tilde{B}}(x) \\Leftrightarrow \\mu_{\\tilde{A}^C}(x) \\geq \\mu_{\\tilde{B}^C}(x)$ に注意して次の表のように証明できる．"
   ]
  },
  {
   "attachments": {},
   "cell_type": "markdown",
   "metadata": {},
   "source": [
    "|     | $\\mu_{\\tilde{A} \\cap \\tilde{B}}(x)$ | $\\mu_{\\left( \\tilde{A} \\cap \\tilde{B} \\right)^C}(x)$ | $\\mu_{\\tilde{A}^C \\cup \\tilde{B}^C}(x)$ |\n",
    "| --- | --- | --- | --- |\n",
    "| $\\mu_{\\tilde{A}}(x) \\leq \\mu_{\\tilde{B}}(x), ~~ \\left( \\mu_{\\tilde{A}^C}(x) \\geq \\mu_{\\tilde{B}^C}(x) \\right)$ | $\\mu_{\\tilde{A}}(x)$ | $1 - \\mu_{\\tilde{A}}(x)$ | $\\mu_{\\tilde{A}^C}(x) = 1 - \\mu_{\\tilde{A}}(x)$ |\n",
    "| $\\mu_{\\tilde{B}}(x) < \\mu_{\\tilde{A}}(x), ~~ \\left( \\mu_{\\tilde{B}^C}(x) > \\mu_{\\tilde{A}^C}(x) \\right)$ | $\\mu_{\\tilde{B}}(x)$ | $1 - \\mu_{\\tilde{B}}(x)$ | $\\mu_{\\tilde{B}^C}(x) = 1 - \\mu_{\\tilde{B}}(x)$ |"
   ]
  },
  {
   "attachments": {},
   "cell_type": "markdown",
   "metadata": {},
   "source": [
    "以上より，式 $( \\text{ 10 - ii } )$ が示された．"
   ]
  }
 ],
 "metadata": {
  "kernelspec": {
   "display_name": "Python 3",
   "language": "python",
   "name": "python3"
  },
  "language_info": {
   "file_extension": ".jl",
   "mimetype": "application/julia",
   "name": "python",
   "version": "3.10.6"
  },
  "orig_nbformat": 4
 },
 "nbformat": 4,
 "nbformat_minor": 2
}
